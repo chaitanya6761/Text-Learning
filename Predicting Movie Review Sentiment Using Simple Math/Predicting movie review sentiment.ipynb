{
 "cells": [
  {
   "cell_type": "markdown",
   "metadata": {},
   "source": [
    "### 1. Bayes Theorem Intro"
   ]
  },
  {
   "cell_type": "code",
   "execution_count": 13,
   "metadata": {
    "collapsed": false
   },
   "outputs": [
    {
     "name": "stdout",
     "output_type": "stream",
     "text": [
      "The probability of being tired, given that you ran:  0.6\n"
     ]
    }
   ],
   "source": [
    "days = [[\"ran\", \"was tired\"], [\"ran\", \"was not tired\"], \n",
    "        [\"didn't run\", \"was tired\"], [\"ran\", \"was tired\"], \n",
    "        [\"didn't run\", \"was not tired\"], [\"ran\", \"was not tired\"], [\"ran\", \"was tired\"]]\n",
    "\n",
    "#lets say that we want to calculate the odds that someone was tired, given that they ran using naive bayes.\n",
    "#This is P(A)\n",
    "prob_tired = len([d for d in days if d[1] == 'was tired'])/len(days)\n",
    "\n",
    "#This is P(B)\n",
    "prob_ran = len([d for d in days if d[0] == 'ran'])/len(days)\n",
    "\n",
    "#This is P(B|A)\n",
    "prob_ran_given_tired = len([d for d in days if d[0] == \"ran\" and d[1] == \"was tired\"]) / len([d for d in days if d[1] == \"was tired\"])  \n",
    "\n",
    "#Now we can calculate P(A|B)\n",
    "\n",
    "prob_tired_given_ran = (prob_ran_given_tired * prob_tired) / prob_ran\n",
    "\n",
    "print('The probability of being tired, given that you ran: ',prob_tired_given_ran)"
   ]
  },
  {
   "cell_type": "markdown",
   "metadata": {},
   "source": [
    "### 2.  Naive Bayes Extended"
   ]
  },
  {
   "cell_type": "code",
   "execution_count": 19,
   "metadata": {
    "collapsed": false
   },
   "outputs": [
    {
     "name": "stdout",
     "output_type": "stream",
     "text": [
      "Tired Probability:  0.10204081632653061\n",
      "Not Tired Probability:  0.054421768707482984\n",
      "Classificaton:  was tired\n"
     ]
    }
   ],
   "source": [
    "# Here's our data, but with \"woke up early\" or \"didn't wake up early\" added.\n",
    "days = [[\"ran\", \"was tired\", \"woke up early\"], [\"ran\", \"was not tired\", \"didn't wake up early\"], \n",
    "        [\"didn't run\", \"was tired\", \"woke up early\"], [\"ran\", \"was tired\", \"didn't wake up early\"], \n",
    "        [\"didn't run\", \"was tired\", \"woke up early\"], [\"ran\", \"was not tired\", \"didn't wake up early\"], \n",
    "        [\"ran\", \"was tired\", \"woke up early\"]]\n",
    "\n",
    "# We're trying to predict whether or not the person was tired on this day.\n",
    "new_day = [\"ran\", \"didn't wake up early\"]\n",
    "\n",
    "def calc_y_prob(y_label, days):\n",
    "    return len([d for d in days if d[1] == y_label])/len(days)\n",
    "\n",
    "def calc_ran_prob_given_y(ran_label, y_label, days):\n",
    "    return len([d for d in days if d[0] == ran_label and d[1] == y_label])/len(days)\n",
    "\n",
    "def calc_woke_early_prob_given_y(woke_label, y_label, days):\n",
    "    return len([d for d in days if d[2] == woke_label and d[1] == y_label])/len(days)\n",
    "\n",
    "denominator = len([d for d in days if d[0] == new_day[0] and d[2] == new_day[1]])/len(days)\n",
    "\n",
    "\n",
    "#Lets plugin all the values and find out the label for given data point.\n",
    "prob_tired = calc_y_prob('was tired', days) * calc_ran_prob_given_y(new_day[0], 'was tired', days) * calc_woke_early_prob_given_y(new_day[1], 'was tired', days) / denominator \n",
    "\n",
    "prob_not_tired = calc_y_prob('was not tired', days) * calc_ran_prob_given_y(new_day[0], 'was not tired', days) * calc_woke_early_prob_given_y(new_day[1], 'was not tired', days) / denominator \n",
    "\n",
    "\n",
    "#Now lets make a classifiaction deceision based on probabilities\n",
    "\n",
    "print('Tired Probability: ',prob_tired)\n",
    "print('Not Tired Probability: ',prob_not_tired)\n",
    "\n",
    "classifiaction = 'was tired'\n",
    "if prob_tired < prob_not_tired:\n",
    "    classifiaction = 'was not tired'\n",
    "    \n",
    "print('Classificaton: ',classifiaction)    "
   ]
  },
  {
   "cell_type": "markdown",
   "metadata": {},
   "source": [
    "### 3. Text Learning"
   ]
  },
  {
   "cell_type": "code",
   "execution_count": 41,
   "metadata": {
    "collapsed": false
   },
   "outputs": [
    {
     "name": "stdout",
     "output_type": "stream",
     "text": [
      "Positive text sample:  bromwell high is a cartoon comedy. it ran at the same time as some other programs about school life,\n",
      "Negative text sample:  story of a man who has unnatural feelings for a pig. starts out with a opening scene that is a terri\n"
     ]
    }
   ],
   "source": [
    "from collections import Counter\n",
    "import csv\n",
    "import re\n",
    "\n",
    "#Read In The Training Data\n",
    "with open('train.csv', 'r',encoding=\"utf8\") as file:\n",
    "    reviews = list(csv.reader(file))\n",
    "    \n",
    "def get_text(reviews, score):\n",
    "    return ' '.join([r[0].lower() for r in reviews if r[1] == str(score)])\n",
    "    \n",
    "def count_text(text):\n",
    "    words = re.split('\\s+', text)\n",
    "    return Counter(words)\n",
    "\n",
    "    \n",
    "#positive reviews:\n",
    "positive_text = get_text(reviews, '1')\n",
    "#negative reviews:\n",
    "negative_text = get_text(reviews, '-1')\n",
    "\n",
    "#Generate Word Counts For Positive Text\n",
    "positive_count = count_text(positive_text)\n",
    "\n",
    "#Generate Word Counts For Negative Text\n",
    "negative_count = count_text(negative_text)\n",
    "\n",
    "print(\"Positive text sample: \",positive_text[:100])\n",
    "print(\"Negative text sample: \",negative_text[:100])"
   ]
  },
  {
   "cell_type": "code",
   "execution_count": 45,
   "metadata": {
    "collapsed": false
   },
   "outputs": [
    {
     "data": {
      "text/plain": [
       "1000"
      ]
     },
     "execution_count": 45,
     "metadata": {},
     "output_type": "execute_result"
    }
   ],
   "source": [
    "def get_y_count(score):\n",
    "    return len([r for r in reviews if r[1] == str(score)])\n",
    "\n",
    "get_y_count('1')"
   ]
  },
  {
   "cell_type": "code",
   "execution_count": null,
   "metadata": {
    "collapsed": true
   },
   "outputs": [],
   "source": []
  }
 ],
 "metadata": {
  "kernelspec": {
   "display_name": "Python 3",
   "language": "python",
   "name": "python3"
  },
  "language_info": {
   "codemirror_mode": {
    "name": "ipython",
    "version": 3
   },
   "file_extension": ".py",
   "mimetype": "text/x-python",
   "name": "python",
   "nbconvert_exporter": "python",
   "pygments_lexer": "ipython3",
   "version": "3.6.0"
  }
 },
 "nbformat": 4,
 "nbformat_minor": 2
}
